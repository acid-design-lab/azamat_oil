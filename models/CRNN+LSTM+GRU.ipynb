{
 "cells": [
  {
   "cell_type": "markdown",
   "metadata": {
    "collapsed": false,
    "pycharm": {
     "name": "#%%\n"
    }
   },
   "source": [
    "## Архитектуры нейронок для рахных задач"
   ]
  },
  {
   "cell_type": "code",
   "execution_count": null,
   "metadata": {
    "collapsed": false,
    "pycharm": {
     "name": "#%%\n"
    }
   },
   "outputs": [],
   "source": [
    "# 1. Координаты X, Y, TVD1 и TVD2 лежат отдельными листами в .xlsx файле\n",
    "# 2. Файлов .tfrecord не пугаться, в деталях коммита на всякий указал как открывать такие. \n",
    "# Там 4 таких файла уже в порядке следования дат, для нефти, воды, пластового и забойного.\n",
    "# Каждый тензор размерности [121,6,6]. \n",
    "# 3. Чтобы узнать какой дате соответствует индекс в тензоре, можно заюзать файл Dates_processed.csv.\n",
    "# Загружаете как датафрейм и запрашиваете по индексу строки, получаете дату."
   ]
  },
  {
   "cell_type": "code",
   "execution_count": 31,
   "metadata": {
    "collapsed": false,
    "pycharm": {
     "name": "#%%\n"
    }
   },
   "outputs": [],
   "source": [
    "# imports \n",
    "\n",
    "import tensorflow as tf\n",
    "import os \n",
    "import pandas as pd"
   ]
  },
  {
   "cell_type": "code",
   "execution_count": null,
   "metadata": {
    "collapsed": false,
    "pycharm": {
     "name": "#%%\n"
    }
   },
   "outputs": [],
   "source": [
    "# specify your directory where files are located \n",
    "# tensors loading\n",
    "\n",
    "files_dir = '../data/processed/'\n",
    "loaded_tensors = dict()\n",
    "for file in [x for x in os.listdir(files_dir) if x.endswith(\"tfrecord\")]:\n",
    "    serialized_tensor = tf.io.read_file(os.path.join(files_dir,file))\n",
    "    loaded_tensors[file] = tf.io.parse_tensor(serialized_tensor, out_type=tf.float32)\n",
    "\n",
    "# coordinates loading \n",
    "df_coords = pd.read_excel(os.path.join(files_dir,\"Coordinates_processed.xlsx\"),sheet_name=['X','Y','TVD1','TVD2'],header=None)\n",
    "df_X_Y = pd.DataFrame({col: list(zip(df_coords[\"X\"][col], df_coords[\"Y\"][col])) for col in  df_coords[\"X\"].columns})\n",
    "df_TVD = pd.DataFrame({col: list(zip(df_coords[\"TVD1\"][col], df_coords[\"TVD2\"][col])) for col in  df_coords[\"TVD1\"].columns})\n",
    "\n",
    "# time loading \n",
    "time_sequence = pd.read_csv(os.path.join(files_dir,\"Dates_processed.csv\"))"
   ]
  },
  {
   "cell_type": "code",
   "execution_count": null,
   "metadata": {
    "collapsed": false,
    "pycharm": {
     "name": "#%%\n"
    }
   },
   "outputs": [],
   "source": []
  },
  {
   "cell_type": "markdown",
   "metadata": {
    "collapsed": false,
    "pycharm": {
     "name": "#%% md\n"
    }
   },
   "source": [
    "### Архитектура для предсказания дебита нефти - input 1"
   ]
  }
 ],
 "metadata": {
  "kernelspec": {
   "display_name": "Python 3",
   "language": "python",
   "name": "python3"
  },
  "language_info": {
   "codemirror_mode": {
    "name": "ipython",
    "version": 3
   },
   "file_extension": ".py",
   "mimetype": "text/x-python",
   "name": "python",
   "nbconvert_exporter": "python",
   "pygments_lexer": "ipython3",
   "version": "3.10.14"
  }
 },
 "nbformat": 4,
 "nbformat_minor": 0
}